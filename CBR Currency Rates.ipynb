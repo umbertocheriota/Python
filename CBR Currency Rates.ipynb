{
 "cells": [
  {
   "cell_type": "code",
   "execution_count": 7,
   "metadata": {},
   "outputs": [],
   "source": [
    "import psycopg2\n",
    "import requests\n",
    "\n",
    "# Connect to local db\n",
    "conn = psycopg2.connect(\n",
    "    host='localhost',\n",
    "    port=5432,\n",
    "    dbname='postgres',\n",
    "    user='postgres',\n",
    "    password='postgres'\n",
    ")\n",
    "\n",
    "# Create cursor\n",
    "cur = conn.cursor()\n",
    "\n",
    "# Create table for currency rates if not exists\n",
    "cur.execute(\"CREATE TABLE IF NOT EXISTS currency_rates (id SERIAL PRIMARY KEY, date DATE, currency VARCHAR(3), rate FLOAT)\")\n",
    "\n",
    "# List of currencies to get rates for\n",
    "currencies = ['AZN', 'EUR', 'KZT', 'USD', 'UZS']\n",
    "\n",
    "# Get today's date\n",
    "import datetime\n",
    "today = datetime.datetime.today().strftime('%d-%m-%Y')\n",
    "\n",
    "# Convert date to correct format\n",
    "converted_date = datetime.datetime.strptime(today, '%d-%m-%Y').strftime('%Y-%m-%d')\n",
    "\n",
    "# API endpoint\n",
    "url = f\"http://www.cbr.ru/scripts/XML_daily.asp?date_req={today}\"\n",
    "\n",
    "# Get data from API\n",
    "data = requests.get(url).text\n",
    "\n",
    "# Parse data\n",
    "import xml.etree.ElementTree as ET\n",
    "root = ET.fromstring(data)\n",
    "\n",
    "# Insert data into db\n",
    "for child in root.findall(\".//Valute\"):\n",
    "    if child.find(\"CharCode\").text in currencies:\n",
    "        cur.execute(\"INSERT INTO currency_rates (date, currency, rate) VALUES (%s, %s, %s)\", (converted_date, child.find(\"CharCode\").text, float(child.find(\"Value\").text.replace(\",\", \".\"))/float(child.find(\"Nominal\").text)))\n",
    "\n",
    "# Commit changes\n",
    "conn.commit()\n",
    "\n",
    "# Close cursor and connection\n",
    "cur.close()\n",
    "conn.close()\n"
   ]
  }
 ],
 "metadata": {
  "kernelspec": {
   "display_name": "base",
   "language": "python",
   "name": "python3"
  },
  "language_info": {
   "codemirror_mode": {
    "name": "ipython",
    "version": 3
   },
   "file_extension": ".py",
   "mimetype": "text/x-python",
   "name": "python",
   "nbconvert_exporter": "python",
   "pygments_lexer": "ipython3",
   "version": "3.9.13"
  },
  "orig_nbformat": 4,
  "vscode": {
   "interpreter": {
    "hash": "603bbd1e732ff2c5093fe105df38534b6a6f7764d76206dae7d9e80e0c99cd6d"
   }
  }
 },
 "nbformat": 4,
 "nbformat_minor": 2
}
